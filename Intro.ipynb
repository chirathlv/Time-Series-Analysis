{
 "cells": [
  {
   "cell_type": "markdown",
   "metadata": {},
   "source": [
    "# Time Series Data"
   ]
  },
  {
   "cell_type": "markdown",
   "metadata": {},
   "source": [
    "--> Time series data is data that is recorded over consistent intervals of time (A sequence of information which attaches a time period to each value)"
   ]
  },
  {
   "cell_type": "markdown",
   "metadata": {},
   "source": [
    "### Main Features of Time-Series Data"
   ]
  },
  {
   "cell_type": "markdown",
   "metadata": {},
   "source": [
    "--> Value >> It can be something measurable such as Price, Return, Profits, Sales, Humidity, Number of People </br>\n",
    "--> Time Span >>  It can be minute, hour, day, year or even Centuries but Start and End time needed </br>\n",
    "--> Time Period >> it is the interval of recording one point to another within the Time Span. There is no time limitation to Time Series time span </br>\n",
    "--> Frequency >> How often values of the data set are recorded </br>\n",
    "--> Seasonality >> presence of variations that occur at specific regular intervals less than a year, such as weekly, monthly</br>\n",
    "--> Arbitrage >> Buy and Sell commmodities and make a safe profit, while the price adjusts"
   ]
  },
  {
   "cell_type": "markdown",
   "metadata": {},
   "source": [
    "1. To analyse, it must be EQUAL and CLEARLY DEFINED Time Periods, which would result in a CONSTANT \"Frequency\" </br>\n",
    "2. Pattern observed in time-series are expected to persist in the future. This is why we do the analysis based on historic data and predict Future values\n",
    "3. Time Dependency >> The values for every period are effected by not only outside factors, but also by the values of past periods\n",
    "4. Time Series data suffers from \"Seasonality\" like some data like Temperature, Rain can be varied depends of the time of day, time the year or certain seasons\n",
    "5. Those repeating seasons can be anticipated and those changes can be accountable for predictions"
   ]
  },
  {
   "cell_type": "markdown",
   "metadata": {},
   "source": [
    "### Examples"
   ]
  },
  {
   "cell_type": "markdown",
   "metadata": {},
   "source": [
    "--> Knowing the highest temperature for the last 5 days would be useless unless we know which value corresponds to each day\n",
    "because ot could be too hot 5 days in a row as same as too cold in 5 days in a row\n",
    "\n",
    "--> Determining the stability of financial markets and the efficiency portfolios"
   ]
  },
  {
   "cell_type": "markdown",
   "metadata": {},
   "source": [
    "### White Noise"
   ]
  },
  {
   "cell_type": "markdown",
   "metadata": {},
   "source": [
    "--> A special type of time series, where the data doesn't follow a pattern\n",
    "\n",
    "Following 3 conditions must be met to consider a white noise\n",
    "\n",
    "1. Constant μ (Mean)\n",
    "2. Constant 𝞂2 (Variance)\n",
    "3. No Autocorrelation (corr(Xₜ, Xₜ₋₁)) = NO clear relationship between past and present values"
   ]
  },
  {
   "cell_type": "markdown",
   "metadata": {},
   "source": [
    "## Random Walk"
   ]
  },
  {
   "cell_type": "markdown",
   "metadata": {},
   "source": [
    "A Special type of time series, where values tend to persist over time and the differences between periods are simply white noise\n",
    "\n",
    "Pₜ = prices\n",
    "Ɛₜ = residuals\n",
    "\n",
    "Pₜ = Pₜ₋₁ + Ɛₜ\n",
    "\n",
    "Ɛₜ = Pₜ - Pₜ₋₁\n",
    "\n",
    "Assuming Ɛₜ ~ WhiteNoise(μ, 𝞂2)"
   ]
  },
  {
   "cell_type": "markdown",
   "metadata": {},
   "source": [
    "- - -"
   ]
  },
  {
   "cell_type": "markdown",
   "metadata": {},
   "source": [
    "Random Walk have following Characteristics\n",
    "\n",
    "1. The difference between periods are simply White Noise\n",
    "2. The best estimator for today's value is yesterday's value\n",
    "3. The best estimator for tomorrow's value is today's value"
   ]
  },
  {
   "cell_type": "markdown",
   "metadata": {},
   "source": [
    "## Market Efficiency"
   ]
  },
  {
   "cell_type": "markdown",
   "metadata": {},
   "source": [
    "Measures the level of difficulty in forecasting correct future values\n",
    "\n",
    "If markets are efficient, then all information is already incorporated into prices, and so there is no way to \"beat\" the market because there are no undervalued or overvalued securities available."
   ]
  },
  {
   "cell_type": "code",
   "execution_count": null,
   "metadata": {},
   "outputs": [],
   "source": []
  }
 ],
 "metadata": {
  "kernelspec": {
   "display_name": "Python 3",
   "language": "python",
   "name": "python3"
  },
  "language_info": {
   "codemirror_mode": {
    "name": "ipython",
    "version": 3
   },
   "file_extension": ".py",
   "mimetype": "text/x-python",
   "name": "python",
   "nbconvert_exporter": "python",
   "pygments_lexer": "ipython3",
   "version": "3.8.3"
  }
 },
 "nbformat": 4,
 "nbformat_minor": 4
}

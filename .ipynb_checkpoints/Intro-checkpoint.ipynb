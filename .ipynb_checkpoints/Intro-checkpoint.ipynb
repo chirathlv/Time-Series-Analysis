{
 "cells": [
  {
   "cell_type": "markdown",
   "metadata": {},
   "source": [
    "# Time Series Data"
   ]
  },
  {
   "cell_type": "markdown",
   "metadata": {},
   "source": [
    "--> Time series data is data that is recorded over consistent intervals of time (A sequence of information which attaches a time period to each value)"
   ]
  },
  {
   "cell_type": "markdown",
   "metadata": {},
   "source": [
    "### Main Features of Time-Series Data"
   ]
  },
  {
   "cell_type": "markdown",
   "metadata": {},
   "source": [
    "--> Value >> It can be something measurable such as Price, Return, Profits, Sales, Humidity, Number of People </br>\n",
    "--> Time Span >>  It can be minute, hour, day, year or even Centuries but Start and End time needed </br>\n",
    "--> Time Period >> it is the interval of recording one point to another within the Time Span. There is no time limitation to Time Series time span </br>\n",
    "--> Frequency >> How often values of the data set are recorded </br>\n",
    "--> Seasonality >> presence of variations that occur at specific regular intervals less than a year, such as weekly, monthly"
   ]
  },
  {
   "cell_type": "markdown",
   "metadata": {},
   "source": [
    "1. To analyse, it must be EQUAL and CLEARLY DEFINED Time Periods, which would result in a CONSTANT \"Frequency\" </br>\n",
    "2. Pattern observed in time-series are expected to persist in the future. This is why we do the analysis based on historic data and predict Future values\n",
    "3. Time Dependency >> The values for every period are effected by not only outside factors, but also by the values of past periods\n",
    "4. Time Series data suffers from \"Seasonality\" like some data like Temperature, Rain can be varied depends of the time of day, time the year or certain seasons\n",
    "5. Those repeating seasons can be anticipated and those changes can be accountable for predictions"
   ]
  },
  {
   "cell_type": "markdown",
   "metadata": {},
   "source": [
    "### Examples"
   ]
  },
  {
   "cell_type": "markdown",
   "metadata": {},
   "source": [
    "--> Knowing the highest temperature for the last 5 days would be useless unless we know which value corresponds to each day\n",
    "because ot could be too hot 5 days in a row as same as too cold in 5 days in a row\n",
    "\n",
    "--> Determining the stability of financial markets and the efficiency portfolios"
   ]
  },
  {
   "cell_type": "code",
   "execution_count": null,
   "metadata": {},
   "outputs": [],
   "source": []
  }
 ],
 "metadata": {
  "kernelspec": {
   "display_name": "Python 3",
   "language": "python",
   "name": "python3"
  },
  "language_info": {
   "codemirror_mode": {
    "name": "ipython",
    "version": 3
   },
   "file_extension": ".py",
   "mimetype": "text/x-python",
   "name": "python",
   "nbconvert_exporter": "python",
   "pygments_lexer": "ipython3",
   "version": "3.8.3"
  }
 },
 "nbformat": 4,
 "nbformat_minor": 4
}
